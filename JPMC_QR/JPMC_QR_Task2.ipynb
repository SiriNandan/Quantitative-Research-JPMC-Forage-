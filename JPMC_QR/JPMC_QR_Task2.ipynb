{
  "nbformat": 4,
  "nbformat_minor": 0,
  "metadata": {
    "colab": {
      "provenance": []
    },
    "kernelspec": {
      "name": "python3",
      "display_name": "Python 3"
    },
    "language_info": {
      "name": "python"
    }
  },
  "cells": [
    {
      "cell_type": "code",
      "execution_count": 2,
      "metadata": {
        "id": "TxVK0dJz5QvD"
      },
      "outputs": [],
      "source": [
        "import math\n",
        "import pandas as pd\n",
        "\n",
        "def gas_storage_contract_value(\n",
        "    injection_dates,\n",
        "    injection_volumes,\n",
        "    withdrawal_dates,\n",
        "    withdrawal_volumes,\n",
        "    storage_cost_rate,\n",
        "    total_vol,\n",
        "    injection_withdrawal_cost_rate\n",
        "):\n",
        "    # Read CSV for price data\n",
        "    price_data = pd.read_csv(\"Nat_Gas_forecast.csv\", parse_dates=[\"Dates\"])\n",
        "    price_data.set_index(\"Dates\", inplace=True)  # Set 'Date' as the index\n",
        "\n",
        "    # Ensure dates are converted to datetime objects\n",
        "    injection_dates = pd.to_datetime(injection_dates, format=\"%Y-%m-%d\")\n",
        "    withdrawal_dates = pd.to_datetime(withdrawal_dates, format=\"%Y-%m-%d\")\n",
        "\n",
        "    # Initialize variables\n",
        "    volume = 0  # Current stored volume\n",
        "    total_buy_cost = 0\n",
        "    total_sell_value = 0\n",
        "\n",
        "    # Combine and sort all relevant dates\n",
        "    all_dates = sorted(set(injection_dates).union(set(withdrawal_dates)))\n",
        "\n",
        "    # Loop over all relevant dates\n",
        "    for current_date in all_dates:\n",
        "        # Handle injections\n",
        "        if current_date in injection_dates.values:\n",
        "            index = injection_dates.get_loc(current_date)\n",
        "            inject_vol = injection_volumes[index]\n",
        "\n",
        "            # Fetch price for injection\n",
        "            inject_price = price_data.loc[current_date]\n",
        "            inject_price = inject_price.iloc[0]\n",
        "\n",
        "            # Check if there's enough storage capacity for the injection\n",
        "            if volume + inject_vol <= total_vol:\n",
        "                volume += inject_vol\n",
        "                total_buy_cost += inject_vol * inject_price\n",
        "                total_buy_cost += inject_vol * injection_withdrawal_cost_rate\n",
        "                print(f\"Injected {inject_vol} units of gas on {current_date.strftime('%Y-%m-%d')} at price {inject_price:.2f}\")\n",
        "            else:\n",
        "                print(f\"Insufficient storage capacity on {current_date.strftime('%Y-%m-%d')} for {inject_vol} units\")\n",
        "\n",
        "        # Handle withdrawals\n",
        "        if current_date in withdrawal_dates.values:\n",
        "            index = withdrawal_dates.get_loc(current_date)\n",
        "            withdraw_vol = withdrawal_volumes[index]\n",
        "\n",
        "            # Fetch price for withdrawal\n",
        "            withdraw_price = price_data.loc[current_date]\n",
        "            withdraw_price = withdraw_price.iloc[0]\n",
        "\n",
        "            # Check if there's enough gas stored for withdrawal\n",
        "            if volume >= withdraw_vol:\n",
        "                volume -= withdraw_vol\n",
        "                total_sell_value += withdraw_vol * withdraw_price\n",
        "                total_sell_value -= withdraw_vol * injection_withdrawal_cost_rate\n",
        "                print(f\"Withdrew {withdraw_vol} units of gas on {current_date.strftime('%Y-%m-%d')} at price {withdraw_price:.2f}\")\n",
        "            else:\n",
        "                print(f\"Insufficient stored volume on {current_date.strftime('%Y-%m-%d')} for {withdraw_vol} units\")\n",
        "\n",
        "    # Calculate storage costs based on the entire duration of the contract\n",
        "    contract_duration_days = (max(withdrawal_dates) - min(injection_dates)).days\n",
        "    storage_duration_months = math.ceil(contract_duration_days / 30)  # Assume 30-day months\n",
        "    total_storage_cost = storage_duration_months * storage_cost_rate\n",
        "\n",
        "    # Calculate the net contract value\n",
        "    net_value = total_sell_value - total_buy_cost - total_storage_cost\n",
        "\n",
        "    print(f\"Total Buy Cost: {total_buy_cost:.2f}\")\n",
        "    print(f\"Total Sell Value: {total_sell_value:.2f}\")\n",
        "    print(f\"Total Storage Cost: {total_storage_cost:.2f}\")\n",
        "    print(f\"Net Contract Value: {net_value:.2f}\")\n",
        "\n",
        "    return net_value"
      ]
    },
    {
      "cell_type": "code",
      "source": [
        "injection_dates = [\"2024-01-31\", \"2024-05-31\", \"2024-11-30\"]\n",
        "injection_volumes = [1000, 1500, 2000]\n",
        "\n",
        "withdrawal_dates = [\"2024-06-30\", \"2025-05-31\"]\n",
        "withdrawal_volumes = [1500, 2000]\n",
        "\n",
        "storage_cost_rate = 1000  # Cost per month\n",
        "total_vol = 5000  # Max storage capacity\n",
        "injection_withdrawal_cost_rate = 2  # Cost per unit for injection/withdrawal\n",
        "\n",
        "# Calculate contract value\n",
        "contract_value = gas_storage_contract_value(\n",
        "    injection_dates,\n",
        "    injection_volumes,\n",
        "    withdrawal_dates,\n",
        "    withdrawal_volumes,\n",
        "    storage_cost_rate,\n",
        "    total_vol,\n",
        "    injection_withdrawal_cost_rate\n",
        ")\n",
        "\n",
        "print(\"Final Contract Value:\", contract_value)"
      ],
      "metadata": {
        "colab": {
          "base_uri": "https://localhost:8080/"
        },
        "id": "kfPkTG1N5rrr",
        "outputId": "558199e4-b310-46d2-f229-1316f8577479"
      },
      "execution_count": 4,
      "outputs": [
        {
          "output_type": "stream",
          "name": "stdout",
          "text": [
            "Injected 1000 units of gas on 2024-01-31 at price 12.60\n",
            "Injected 1500 units of gas on 2024-05-31 at price 11.40\n",
            "Withdrew 1500 units of gas on 2024-06-30 at price 11.50\n",
            "Injected 2000 units of gas on 2024-11-30 at price 12.68\n",
            "Withdrew 2000 units of gas on 2025-05-31 at price 12.14\n",
            "Total Buy Cost: 64057.50\n",
            "Total Sell Value: 34527.50\n",
            "Total Storage Cost: 17000.00\n",
            "Net Contract Value: -46530.00\n",
            "Final Contract Value: -46529.99956289842\n"
          ]
        }
      ]
    }
  ]
}